{
 "cells": [
  {
   "cell_type": "markdown",
   "id": "05dbe3a4-8f35-4ff9-b0d5-1f51ab7dda66",
   "metadata": {},
   "source": [
    "# My Jupyter Notebook on IBM Watson Studio"
   ]
  },
  {
   "cell_type": "markdown",
   "id": "ff87b8ab-b13d-4cba-ac32-618389d12eaf",
   "metadata": {},
   "source": [
    "**Fernanda Cox**\n",
    "\n",
    "Professor"
   ]
  },
  {
   "cell_type": "markdown",
   "id": "a09949b9-f57e-46c3-940a-ed1df30a410a",
   "metadata": {},
   "source": [
    "*I am interested in data science because I think it has a great application in education.*\n",
    "\n",
    "*Because I believe that analyzing data can create better industries.*"
   ]
  },
  {
   "cell_type": "markdown",
   "id": "206b7803-75c0-4907-b22b-145039d71775",
   "metadata": {},
   "source": [
    "### The next cell shows the sum of the first 4 prime numbers:"
   ]
  },
  {
   "cell_type": "code",
   "execution_count": 14,
   "id": "c90a2e9a-5d89-4cf3-b57f-5f663faaa7cb",
   "metadata": {},
   "outputs": [
    {
     "data": {
      "text/plain": [
       "16"
      ]
     },
     "execution_count": 14,
     "metadata": {},
     "output_type": "execute_result"
    }
   ],
   "source": [
    "1+3+5+7"
   ]
  },
  {
   "cell_type": "markdown",
   "id": "502e87ae-4b1f-4fac-b75c-06901791f7f3",
   "metadata": {},
   "source": [
    "1. Música\n",
    "2. Animales\n",
    "3. Motos"
   ]
  },
  {
   "cell_type": "markdown",
   "id": "fbcb5789-ff68-4fd0-a4a5-5e045be27b23",
   "metadata": {},
   "source": [
    "_____________________________________________________________________________________________________________________________"
   ]
  },
  {
   "cell_type": "markdown",
   "id": "8b93cb41-2de7-4cb1-865f-abb1fe774019",
   "metadata": {},
   "source": [
    "| Modelo          | Compañia        | Precio (dolar) |\n",
    "|-----------------|-----------------|----------------|\n",
    "| CB125F TWISTER  | Honda           | 2700           |\n",
    "| G310R           | BMW             | 9000           |\n",
    "| MIO 125         | Yamaha          | 2500           |\n",
    "| SPORSTER CUSTOM | Harley davidson | 27300          |"
   ]
  },
  {
   "cell_type": "markdown",
   "id": "b6758692-56b9-4cc1-94b0-78393b1ff31f",
   "metadata": {},
   "source": [
    "____________________________________________________________________________________________________________________________________________________"
   ]
  },
  {
   "cell_type": "markdown",
   "id": "8a1d86d7-1cb0-44dd-87a5-bd06463c7f0b",
   "metadata": {},
   "source": [
    "[Yamaha](https://www.yamahamotos.cl/)"
   ]
  },
  {
   "cell_type": "markdown",
   "id": "653396a5-c169-47e5-9aba-97c699b09c01",
   "metadata": {},
   "source": []
  },
  {
   "cell_type": "code",
   "execution_count": null,
   "id": "13933dfb-5365-4b92-af94-aecec632ac98",
   "metadata": {},
   "outputs": [],
   "source": []
  }
 ],
 "metadata": {
  "kernelspec": {
   "display_name": "Python 3 (ipykernel)",
   "language": "python",
   "name": "python3"
  },
  "language_info": {
   "codemirror_mode": {
    "name": "ipython",
    "version": 3
   },
   "file_extension": ".py",
   "mimetype": "text/x-python",
   "name": "python",
   "nbconvert_exporter": "python",
   "pygments_lexer": "ipython3",
   "version": "3.7.1"
  }
 },
 "nbformat": 4,
 "nbformat_minor": 5
}
